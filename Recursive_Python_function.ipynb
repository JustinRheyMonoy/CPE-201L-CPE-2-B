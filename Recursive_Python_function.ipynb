{
  "nbformat": 4,
  "nbformat_minor": 0,
  "metadata": {
    "colab": {
      "provenance": [],
      "authorship_tag": "ABX9TyOwEkWgXYGoenEMVEtUpLYx",
      "include_colab_link": true
    },
    "kernelspec": {
      "name": "python3",
      "display_name": "Python 3"
    },
    "language_info": {
      "name": "python"
    }
  },
  "cells": [
    {
      "cell_type": "markdown",
      "metadata": {
        "id": "view-in-github",
        "colab_type": "text"
      },
      "source": [
        "<a href=\"https://colab.research.google.com/github/JustinRheyMonoy/CPE-201L-CPE-2-B/blob/main/Recursive_Python_function.ipynb\" target=\"_parent\"><img src=\"https://colab.research.google.com/assets/colab-badge.svg\" alt=\"Open In Colab\"/></a>"
      ]
    },
    {
      "cell_type": "code",
      "execution_count": null,
      "metadata": {
        "colab": {
          "base_uri": "https://localhost:8080/"
        },
        "id": "uYxCbvpTSO13",
        "outputId": "5ae58121-942a-4d90-d8d8-ccbc811af168"
      },
      "outputs": [
        {
          "output_type": "stream",
          "name": "stdout",
          "text": [
            "Min: 3\n",
            "Max: 23\n"
          ]
        }
      ],
      "source": [
        "def find_min_max(seq):\n",
        "    if len(seq) == 1:\n",
        "        return seq[0], seq[0]\n",
        "    else:\n",
        "        min_rest, max_rest = find_min_max(seq[1:])\n",
        "        return min(seq[0], min_rest), max(seq[0], max_rest)\n",
        "numbers = [11,9,23,6,5,3]\n",
        "minimum, maximum = find_min_max(numbers)\n",
        "print(\"Min:\", minimum)\n",
        "print(\"Max:\", maximum)\n"
      ]
    }
  ]
}