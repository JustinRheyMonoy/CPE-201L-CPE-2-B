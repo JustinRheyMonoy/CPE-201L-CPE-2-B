{
  "nbformat": 4,
  "nbformat_minor": 0,
  "metadata": {
    "colab": {
      "provenance": []
    },
    "kernelspec": {
      "name": "python3",
      "display_name": "Python 3"
    },
    "language_info": {
      "name": "python"
    }
  },
  "cells": [
    {
      "cell_type": "markdown",
      "source": [
        "#Problem 1"
      ],
      "metadata": {
        "id": "SxfA_RZaVGTn"
      }
    },
    {
      "cell_type": "code",
      "execution_count": 39,
      "metadata": {
        "id": "YVssKXifPW4G"
      },
      "outputs": [],
      "source": [
        "class Fruit:\n",
        "  def __init__(self, name=\"\", price = 0.0, quantity = 0):\n",
        "    self.name = name\n",
        "    self.price = price\n",
        "    self.quantity = quantity\n",
        "\n",
        "  def __def__(self):\n",
        "\n",
        "    def __copy__(self):\n",
        "      return Fruit(self.name, self.price, self.quantity)\n",
        "\n",
        "  def copy_assign(self, other):\n",
        "    if self is not other:\n",
        "      self.name = other.name\n",
        "      self.price = other.price\n",
        "      self.quantity = other.quantity\n",
        "\n",
        "  def calculate_sum(self):\n",
        "    return self.price * self.quantity\n",
        "\n",
        "  def display(self):\n",
        "    print(f\"Fruit: {self.name}, Price: {self.price}, Quantity: {self.quantity}, Total: {self.calculate_sum()}\")\n",
        "\n",
        "class Vegetable:\n",
        "  def __init__(self, name=\"\", price = 0.0, quantity = 0):\n",
        "    self.name = name\n",
        "    self.price = price\n",
        "    self.quantity = quantity\n",
        "\n",
        "  def __def__(self):\n",
        "    def __copy__(self):\n",
        "      return Vegetable(self.name, self.price, self.quantity)\n",
        "\n",
        "  def copy_assign(self, other):\n",
        "    if self is not other:\n",
        "      self.name = other.name\n",
        "      self.price = other.price\n",
        "      self.quantity = other.quantity\n",
        "\n",
        "  def calculate_sum(self):\n",
        "    return self.price * self.quantity\n",
        "\n",
        "  def display(self):\n",
        "    print(f\"Vegetable: {self.name}, Price: {self.price}, Quantity: {self.quantity}, Total: {self.calculate_sum()}\")\n"
      ]
    },
    {
      "cell_type": "markdown",
      "source": [
        "#Problem 2"
      ],
      "metadata": {
        "id": "udnB0A6nXy1f"
      }
    },
    {
      "cell_type": "code",
      "source": [
        "class Fruit:\n",
        "  def __init__(self, name=\"\", price = 0.0, quantity = 0):\n",
        "    self.name = name\n",
        "    self.price = price\n",
        "    self.quantity = quantity\n",
        "\n",
        "  def __def__(self):\n",
        "    def __copy__(self):\n",
        "      return Fruit(self.name, self.price, self.quantity)\n",
        "\n",
        "  def copy_assign(self, other):\n",
        "    if self is not other:\n",
        "      self.name = other.name\n",
        "      self.price = other.price\n",
        "      self.quantity = other.quantity\n",
        "\n",
        "  def calculate_sum(self):\n",
        "    return self.price * self.quantity\n",
        "\n",
        "  def display(self):\n",
        "    print(f\"Fruit: {self.name}, Price: {self.price}, Quantity: {self.quantity}, Total: {self.calculate_sum()}\")\n",
        "\n",
        "class Vegetable:\n",
        "  def __init__(self, name=\"\", price = 0.0, quantity = 0):\n",
        "    self.name = name\n",
        "    self.price = price\n",
        "    self.quantity = quantity\n",
        "\n",
        "  def __def__(self):\n",
        "    def __copy__(self):\n",
        "      return Vegetable(self.name, self.price, self.quantity)\n",
        "\n",
        "  def copy_assign(self, other):\n",
        "    if self is not other:\n",
        "      self.name = other.name\n",
        "      self.price = other.price\n",
        "      self.quantity = other.quantity\n",
        "\n",
        "  def calculate_sum(self):\n",
        "    return self.price * self.quantity\n",
        "\n",
        "  def display(self):\n",
        "    print(f\"Vegetable: {self.name}, Price: {self.price}, Quantity: {self.quantity}, Total: {self.calculate_sum()}\")\n",
        "\n",
        "if __name__ == \"__main__\":\n",
        "  GroceryList = [Fruit(\"Apple\", 10.0, 7), Fruit(\"Banana\", 10.0, 8), Vegetable(\"Broccolli\", 60.0, 12), Vegetable(\"Lettuce\", 50.0, 10)]\n",
        "  print(\"             ---Jenna's Grocery List---\")\n",
        "  for item in GroceryList:\n",
        "    item.display()\n",
        "\n"
      ],
      "metadata": {
        "colab": {
          "base_uri": "https://localhost:8080/"
        },
        "id": "2REaRlEAWIuo",
        "outputId": "48f37dd8-047d-4bf2-b55a-dc06e03e5cc4"
      },
      "execution_count": 35,
      "outputs": [
        {
          "output_type": "stream",
          "name": "stdout",
          "text": [
            "             ---Jenna's Grocery List---\n",
            "Fruit: Apple, Price: 10.0, Quantity: 7, Total: 70.0\n",
            "Fruit: Banana, Price: 10.0, Quantity: 8, Total: 80.0\n",
            "Vegetable: Broccolli, Price: 60.0, Quantity: 12, Total: 720.0\n",
            "Vegetable: Lettuce, Price: 50.0, Quantity: 10, Total: 500.0\n"
          ]
        }
      ]
    },
    {
      "cell_type": "markdown",
      "source": [
        "#Problem 3"
      ],
      "metadata": {
        "id": "tEYCtauPejg_"
      }
    },
    {
      "cell_type": "code",
      "source": [
        "import copy\n",
        "\n",
        "class Fruit:\n",
        "  def __init__(self, name=\"\", price = 0.0, quantity = 0):\n",
        "    self.name = name\n",
        "    self.price = price\n",
        "    self.quantity = quantity\n",
        "\n",
        "\n",
        "  def __def__(self):\n",
        "    def __copy__(self):\n",
        "      return Fruit(self.name, self.price, self.quantity)\n",
        "\n",
        "  def copy_assign(self, other):\n",
        "    if self is not other:\n",
        "      self.name = other.name\n",
        "      self.price = other.price\n",
        "      self.quantity = other.quantity\n",
        "\n",
        "  def calculate_sum(self):\n",
        "    return self.price * self.quantity\n",
        "\n",
        "  def display(self):\n",
        "    print(f\"Fruit: {self.name}, Price: {self.price}, Quantity: {self.quantity}, Total: {self.calculate_sum()}\")\n",
        "\n",
        "class Vegetable:\n",
        "  def __init__(self, name=\"\", price = 0.0, quantity = 0):\n",
        "    self.name = name\n",
        "    self.price = price\n",
        "    self.quantity = quantity\n",
        "\n",
        "  def __def__(self):\n",
        "    def __copy__(self):\n",
        "      return Vegetable(self.name, self.price, self.quantity)\n",
        "\n",
        "  def copy_assign(self, other):\n",
        "    if self is not other:\n",
        "      self.name = other.name\n",
        "      self.price = other.price\n",
        "      self.quantity = other.quantity\n",
        "\n",
        "  def calculate_sum(self):\n",
        "    return self.price * self.quantity\n",
        "\n",
        "  def display(self):\n",
        "    print(f\"Vegetable: {self.name}, Price: {self.price}, Quantity: {self.quantity}, Total: {self.calculate_sum()}\")\n",
        "\n",
        "  def TotalSum(grocery_list):\n",
        "    total = 0.0\n",
        "    for item in grocery_list:\n",
        "        total += item.calculate_sum()\n",
        "    return total\n",
        "\n",
        "if __name__ == \"__main__\":\n",
        "  GroceryList = [Fruit(\"Apple\", 10.0, 7), Fruit(\"Banana\", 10.0, 8), Vegetable(\"Broccolli\", 60.0, 12), Vegetable(\"Lettuce\", 50.0, 10)]\n",
        "  print(\"              ---Jenna's Grocery List---\")\n",
        "  for item in GroceryList:\n",
        "    item.display()\n",
        "\n",
        "total_cost = TotalSum(GroceryList)\n",
        "print(f\"\\nTotal Grocery Cost: {total_cost:}\")\n",
        "\n"
      ],
      "metadata": {
        "id": "5tZB-W6VdwLP",
        "colab": {
          "base_uri": "https://localhost:8080/"
        },
        "outputId": "63627994-23a7-4c8c-f34f-9dc5046bd8f2"
      },
      "execution_count": 36,
      "outputs": [
        {
          "output_type": "stream",
          "name": "stdout",
          "text": [
            "              ---Jenna's Grocery List---\n",
            "Fruit: Apple, Price: 10.0, Quantity: 7, Total: 70.0\n",
            "Fruit: Banana, Price: 10.0, Quantity: 8, Total: 80.0\n",
            "Vegetable: Broccolli, Price: 60.0, Quantity: 12, Total: 720.0\n",
            "Vegetable: Lettuce, Price: 50.0, Quantity: 10, Total: 500.0\n",
            "\n",
            "Total Grocery Cost: 1370.0\n"
          ]
        }
      ]
    },
    {
      "cell_type": "code",
      "source": [
        "class Fruit:\n",
        "  def __init__(self, name=\"\", price = 0.0, quantity = 0):\n",
        "    self.name = name\n",
        "    self.price = price\n",
        "    self.quantity = quantity\n",
        "\n",
        "  def __def__(self):\n",
        "    def __copy__(self):\n",
        "      return Fruit(self.name, self.price, self.quantity)\n",
        "\n",
        "  def copy_assign(self, other):\n",
        "    if self is not other:\n",
        "      self.name = other.name\n",
        "      self.price = other.price\n",
        "      self.quantity = other.quantity\n",
        "\n",
        "  def calculate_sum(self):\n",
        "    return self.price * self.quantity\n",
        "\n",
        "  def display(self):\n",
        "    print(f\"Fruit: {self.name}, Price: {self.price}, Quantity: {self.quantity}, Total: {self.calculate_sum()}\")\n",
        "\n",
        "class Vegetable:\n",
        "  def __init__(self, name=\"\", price = 0.0, quantity = 0):\n",
        "    self.name = name\n",
        "    self.price = price\n",
        "    self.quantity = quantity\n",
        "\n",
        "  def __def__(self):\n",
        "    def __copy__(self):\n",
        "      return Vegetable(self.name, self.price, self.quantity)\n",
        "\n",
        "  def copy_assign(self, other):\n",
        "    if self is not other:\n",
        "      self.name = other.name\n",
        "      self.price = other.price\n",
        "      self.quantity = other.quantity\n",
        "\n",
        "  def calculate_sum(self):\n",
        "    return self.price * self.quantity\n",
        "\n",
        "  def display(self):\n",
        "    print(f\"Vegetable: {self.name}, Price: {self.price}, Quantity: {self.quantity}, Total: {self.calculate_sum()}\")\n",
        "\n",
        "  def TotalSum(grocery_list):\n",
        "    total = 0.0\n",
        "    for item in grocery_list:\n",
        "        total += item.calculate_sum()\n",
        "    return total\n",
        "\n",
        "if __name__ == \"__main__\":\n",
        "  GroceryList = [Fruit(\"Apple\", 10.0, 7), Fruit(\"Banana\", 10.0, 8), Vegetable(\"Broccolli\", 60.0, 12), Vegetable(\"Lettuce\", 50.0, 10)]\n",
        "  print(\"              ---Jenna's Grocery List---\")\n",
        "  for item in GroceryList:\n",
        "    item.display()\n",
        "\n",
        "total_cost = TotalSum(GroceryList)\n",
        "print(f\"\\nTotal Grocery Cost: {total_cost}\")\n",
        "\n",
        "print(\"\\nRemoving Lettuce from the Grocery list\")\n",
        "for i, item in enumerate(GroceryList):\n",
        "    if item.name.lower() == \"lettuce\":\n",
        "      del GroceryList[i]\n",
        "      break\n",
        "\n",
        "print(\"\\nUpdated Grocery List\")\n",
        "\n",
        "for item in GroceryList:\n",
        "    item.display()\n",
        "\n",
        "print(f\"\\n New Total cost: {TotalSum(GroceryList):}\")\n",
        "\n"
      ],
      "metadata": {
        "colab": {
          "base_uri": "https://localhost:8080/"
        },
        "id": "n3kQcZWS-jtq",
        "outputId": "8c7ba1ed-f9e4-43c5-afc3-f07e93def99b"
      },
      "execution_count": 38,
      "outputs": [
        {
          "output_type": "stream",
          "name": "stdout",
          "text": [
            "              ---Jenna's Grocery List---\n",
            "Fruit: Apple, Price: 10.0, Quantity: 7, Total: 70.0\n",
            "Fruit: Banana, Price: 10.0, Quantity: 8, Total: 80.0\n",
            "Vegetable: Broccolli, Price: 60.0, Quantity: 12, Total: 720.0\n",
            "Vegetable: Lettuce, Price: 50.0, Quantity: 10, Total: 500.0\n",
            "\n",
            "Total Grocery Cost: 1370.0\n",
            "\n",
            "Removing Lettuce from the Grocery list\n",
            "\n",
            "Updated Grocery List\n",
            "Fruit: Apple, Price: 10.0, Quantity: 7, Total: 70.0\n",
            "Fruit: Banana, Price: 10.0, Quantity: 8, Total: 80.0\n",
            "Vegetable: Broccolli, Price: 60.0, Quantity: 12, Total: 720.0\n",
            "\n",
            " New Total cost: 870.0\n"
          ]
        }
      ]
    },
    {
      "cell_type": "code",
      "source": [],
      "metadata": {
        "id": "gpDniucQDXCU"
      },
      "execution_count": null,
      "outputs": []
    }
  ]
}