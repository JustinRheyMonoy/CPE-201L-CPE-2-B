{
  "nbformat": 4,
  "nbformat_minor": 0,
  "metadata": {
    "colab": {
      "provenance": []
    },
    "kernelspec": {
      "name": "python3",
      "display_name": "Python 3"
    },
    "language_info": {
      "name": "python"
    }
  },
  "cells": [
    {
      "cell_type": "code",
      "execution_count": 20,
      "metadata": {
        "colab": {
          "base_uri": "https://localhost:8080/"
        },
        "id": "Ei-4wNTGCvX2",
        "outputId": "d54779d0-5d98-47ce-fe8d-eb63552d4c42"
      },
      "outputs": [
        {
          "output_type": "stream",
          "name": "stdout",
          "text": [
            "2\n",
            "3\n",
            "5\n",
            "7\n",
            "11\n",
            "13\n",
            "17\n",
            "19\n",
            "Head: 2\n",
            "Tail: 19\n"
          ]
        }
      ],
      "source": [
        "class Node:\n",
        "  def __init__(self, data):\n",
        "    self.data = data\n",
        "    self.next = None\n",
        "\n",
        "class LinkedList:\n",
        "  def __init__(self):\n",
        "    self.head = None\n",
        "\n",
        "  def display_data(self):\n",
        "    current = self.head\n",
        "    while current:\n",
        "      print(current.data)\n",
        "      current = current.next\n",
        "\n",
        "  def display_head_tail(self):\n",
        "    if self.head is None:\n",
        "        print(\"The list is empty.\")\n",
        "        return\n",
        "    print(f\"Head: {self.head.data}\")\n",
        "    current = self.head\n",
        "    while current.next:\n",
        "        current = current.next\n",
        "    print(f\"Tail: {current.data}\")\n",
        "\n",
        "\n",
        "if __name__ == '__main__':\n",
        "  llist = LinkedList()\n",
        "  llist.head = Node(2)\n",
        "  second = Node(3)\n",
        "  third = Node(5)\n",
        "  Fourth = Node(7)\n",
        "  Fifth = Node(11)\n",
        "  Sixth = Node(13)\n",
        "  Seventh = Node(17)\n",
        "  Eighth = Node(19)\n",
        "\n",
        "  llist.head.next = second\n",
        "  second.next = third\n",
        "  third.next = Fourth\n",
        "  Fourth.next = Fifth\n",
        "  Fifth.next = Sixth\n",
        "  Sixth.next = Seventh\n",
        "  Seventh.next = Eighth\n",
        "\n",
        "  llist.display_data()\n",
        "  llist.display_head_tail()"
      ]
    }
  ]
}