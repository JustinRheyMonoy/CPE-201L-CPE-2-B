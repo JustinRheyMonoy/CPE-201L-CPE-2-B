{
  "nbformat": 4,
  "nbformat_minor": 0,
  "metadata": {
    "colab": {
      "provenance": [],
      "authorship_tag": "ABX9TyO3OFdrcXjg8fEIT1lDmoK4",
      "include_colab_link": true
    },
    "kernelspec": {
      "name": "python3",
      "display_name": "Python 3"
    },
    "language_info": {
      "name": "python"
    }
  },
  "cells": [
    {
      "cell_type": "markdown",
      "metadata": {
        "id": "view-in-github",
        "colab_type": "text"
      },
      "source": [
        "<a href=\"https://colab.research.google.com/github/JustinRheyMonoy/CPE-201L-CPE-2-B/blob/main/Polygon.ipynb\" target=\"_parent\"><img src=\"https://colab.research.google.com/assets/colab-badge.svg\" alt=\"Open In Colab\"/></a>"
      ]
    },
    {
      "cell_type": "code",
      "source": [
        "class Polygons:\n",
        "    def __init__(self, name, sides, area):\n",
        "        self.name = name\n",
        "        self.sides = sides\n",
        "        self.area = area\n",
        "\n",
        "    def set_name(self, name):\n",
        "        self.name = name\n",
        "\n",
        "    def set_sides(self, sides):\n",
        "        self.sides = sides\n",
        "\n",
        "    def set_area(self, area):\n",
        "        self.area = area\n",
        "\n",
        "    def get_name(self):\n",
        "        return self.name\n",
        "\n",
        "    def get_sides(self):\n",
        "        return self.sides\n",
        "\n",
        "    def get_area(self):\n",
        "        return self.area\n",
        "\n",
        "octagon = Polygons(\"Octagon\", 8, 77.25)\n",
        "\n",
        "print(\"Name:\", octagon.get_name())\n",
        "print(\"Sides:\", octagon.get_sides()\n",
        "print(\"Area:\", octagon.get_area())\n",
        "\n",
        "hexagon = Polygons(\"Hexagon\", 6, 93.53)\n",
        "\n",
        "print(\"Name:\", hexagon.get_name())\n",
        "print(\"Sides:\", hexagon.get_sides())\n",
        "print(\"Area:\", hexagon.get_area())\n"
      ],
      "metadata": {
        "colab": {
          "base_uri": "https://localhost:8080/"
        },
        "id": "kzgB38Xkko79",
        "outputId": "d22c2cd9-a30c-494d-ee91-1879ab58cdf1"
      },
      "execution_count": null,
      "outputs": [
        {
          "output_type": "stream",
          "name": "stdout",
          "text": [
            "Name: Octagon\n",
            "Sides: 8\n",
            "Area: 77.25\n",
            "Name: Hexagon\n",
            "Sides: 6\n",
            "Area: 93.53\n"
          ]
        }
      ]
    }
  ]
}