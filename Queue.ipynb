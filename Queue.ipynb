{
  "nbformat": 4,
  "nbformat_minor": 0,
  "metadata": {
    "colab": {
      "provenance": [],
      "authorship_tag": "ABX9TyNW9qcEfU5Wn1Ddhp5lfrDp",
      "include_colab_link": true
    },
    "kernelspec": {
      "name": "python3",
      "display_name": "Python 3"
    },
    "language_info": {
      "name": "python"
    }
  },
  "cells": [
    {
      "cell_type": "markdown",
      "metadata": {
        "id": "view-in-github",
        "colab_type": "text"
      },
      "source": [
        "<a href=\"https://colab.research.google.com/github/JustinRheyMonoy/CPE-201L-CPE-2-B/blob/main/Queue.ipynb\" target=\"_parent\"><img src=\"https://colab.research.google.com/assets/colab-badge.svg\" alt=\"Open In Colab\"/></a>"
      ]
    },
    {
      "cell_type": "code",
      "execution_count": 13,
      "metadata": {
        "colab": {
          "base_uri": "https://localhost:8080/"
        },
        "id": "CPd9n2gy5ofe",
        "outputId": "39c052ec-fc0e-4a0b-8ba4-b79a162229ef"
      },
      "outputs": [
        {
          "output_type": "stream",
          "name": "stdout",
          "text": [
            "B\n",
            "C\n",
            "D\n",
            "E\n",
            "Head queue =  B\n",
            "Tail queue =  E\n"
          ]
        }
      ],
      "source": [
        "class Queue:\n",
        "  def __init__(self):\n",
        "    self.queue = []\n",
        "\n",
        "  def append(self, dataval):\n",
        "    if dataval not in self.queue:\n",
        "      self.queue.append(dataval)\n",
        "      return True\n",
        "    else:\n",
        "        return False\n",
        "\n",
        "  def __str__(self):\n",
        "    return str(self.queue)\n",
        "\n",
        "  #def Head_queue:\n",
        "  def Head_queue(self):\n",
        "    if len(self.queue) > 1:\n",
        "      print(\"Head queue = \",self.queue[0])\n",
        "    else:\n",
        "      return None\n",
        "\n",
        "  #def Tail_queue\n",
        "  def Tail_queue(self):\n",
        "    if len(self.queue) > 1:\n",
        "      print(\"Tail queue = \",self.queue[-1])\n",
        "      return None\n",
        "    else:\n",
        "      return None\n",
        "\n",
        "  def pop(self):\n",
        "    if len(self.queue) == 0:\n",
        "      return None\n",
        "    else:\n",
        "      return self.queue.pop(0)\n",
        "\n",
        "  #def full_queue:\n",
        "  def full_queue(self):\n",
        "    if len(self.queue) == 5:\n",
        "      return print(\"Queue is full\")\n",
        "\n",
        "\n",
        "  def display(self):\n",
        "    for item in self.queue:\n",
        "      print(item)\n",
        "\n",
        "  #def empty_queue:\n",
        "  def empty_queue(self):\n",
        "    if len(self.queue) <= 0:\n",
        "      return print(\"Queue is empty\")\n",
        "\n",
        "queue = Queue()\n",
        "queue.append(\"A\")\n",
        "queue.append(\"B\")\n",
        "queue.append(\"C\")\n",
        "queue.append(\"D\")\n",
        "queue.append(\"E\")\n",
        "queue.pop()\n",
        "\n",
        "queue.display()\n",
        "queue.empty_queue()\n",
        "queue.full_queue()\n",
        "queue.Head_queue()\n",
        "queue.Tail_queue()\n",
        "\n",
        "\n"
      ]
    },
    {
      "cell_type": "code",
      "source": [
        "\n"
      ],
      "metadata": {
        "id": "hPO7PKoV-fGh"
      },
      "execution_count": null,
      "outputs": []
    }
  ]
}