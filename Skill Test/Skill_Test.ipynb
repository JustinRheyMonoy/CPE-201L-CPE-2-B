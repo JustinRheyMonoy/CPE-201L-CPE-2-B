{
  "nbformat": 4,
  "nbformat_minor": 0,
  "metadata": {
    "colab": {
      "provenance": []
    },
    "kernelspec": {
      "name": "python3",
      "display_name": "Python 3"
    },
    "language_info": {
      "name": "python"
    }
  },
  "cells": [
    {
      "cell_type": "code",
      "source": [
        "class Stack:\n",
        "    def __init__(self):\n",
        "        self.stack = []\n",
        "        self.full_name = \"JUSTIN RHEY MONOY\"\n",
        "\n",
        "    def push(self, dataval):\n",
        "        self.stack.append(dataval)\n",
        "        return True\n",
        "\n",
        "    def pop(self):\n",
        "        if len(self.stack) <= 0:\n",
        "            return \"Stack is empty\"\n",
        "        else:\n",
        "            return self.stack.pop()\n",
        "\n",
        "    def check(self):\n",
        "        if len(self.stack) == 0:\n",
        "            return print(\"Stack is empty\")\n",
        "        else:\n",
        "            return False\n",
        "\n",
        "    def traverse(self):\n",
        "        print(\"Stack Traversal: \", end=\"\")\n",
        "        for item in self.stack:\n",
        "            print(item, end=\"\")\n",
        "        print()\n",
        "\n",
        "    def display(self):\n",
        "        for item in self.stack:\n",
        "            print(item, end=\"\")\n",
        "\n",
        "    def underscore(self):\n",
        "        words = self.full_name.split()\n",
        "        for word in words:\n",
        "            self.push(word)\n",
        "            self.push('_')\n",
        "        self.stack.pop()\n",
        "\n",
        "\n",
        "AStack = Stack()\n",
        "AStack.underscore()\n",
        "AStack.check()\n",
        "AStack.traverse()\n",
        "AStack.display()\n",
        "popped_item = AStack.pop()\n",
        "print(\"\\nType 1 to pop the last element\")\n",
        "user = input()\n",
        "if user == 1:\n",
        "  popped_item\n",
        "  pass\n",
        "print(\"Popped item:\", popped_item)\n",
        "\n",
        "AStack.check()\n",
        "AStack.traverse()\n",
        "AStack.display()\n"
      ],
      "metadata": {
        "id": "PglpJZ9NVL1D",
        "colab": {
          "base_uri": "https://localhost:8080/"
        },
        "outputId": "05e0a314-fe57-4210-87c1-f6327875bc9a"
      },
      "execution_count": 107,
      "outputs": [
        {
          "output_type": "stream",
          "name": "stdout",
          "text": [
            "Stack Traversal: JUSTIN_RHEY_MONOY\n",
            "JUSTIN_RHEY_MONOY\n",
            "Type 1 to pop the last element\n",
            "1\n",
            "Popped item: MONOY\n",
            "Stack Traversal: JUSTIN_RHEY_\n",
            "JUSTIN_RHEY_"
          ]
        }
      ]
    }
  ]
}