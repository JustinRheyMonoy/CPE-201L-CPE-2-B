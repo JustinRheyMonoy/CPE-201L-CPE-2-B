{
  "nbformat": 4,
  "nbformat_minor": 0,
  "metadata": {
    "colab": {
      "provenance": [],
      "authorship_tag": "ABX9TyM5KZCdfQA/N3qxE9DB+0RQ",
      "include_colab_link": true
    },
    "kernelspec": {
      "name": "python3",
      "display_name": "Python 3"
    },
    "language_info": {
      "name": "python"
    }
  },
  "cells": [
    {
      "cell_type": "markdown",
      "metadata": {
        "id": "view-in-github",
        "colab_type": "text"
      },
      "source": [
        "<a href=\"https://colab.research.google.com/github/JustinRheyMonoy/CPE-201L-CPE-2-B/blob/main/Activity%231%20-%20Area_of_Circle.ipynb\" target=\"_parent\"><img src=\"https://colab.research.google.com/assets/colab-badge.svg\" alt=\"Open In Colab\"/></a>"
      ]
    },
    {
      "cell_type": "markdown",
      "source": [
        "#Area of a Circle"
      ],
      "metadata": {
        "id": "xyj4hfRuXJyB"
      }
    },
    {
      "cell_type": "markdown",
      "source": [
        "Solution #1"
      ],
      "metadata": {
        "id": "_i4bHet0bK0h"
      }
    },
    {
      "cell_type": "code",
      "source": [
        "r = 6\n",
        "area = 3.14 * r * r\n",
        "print(area)"
      ],
      "metadata": {
        "colab": {
          "base_uri": "https://localhost:8080/"
        },
        "id": "Nx77MEkGbEph",
        "outputId": "bb7cd5a1-567c-459f-b971-621b5f82791b"
      },
      "execution_count": 1,
      "outputs": [
        {
          "output_type": "stream",
          "name": "stdout",
          "text": [
            "113.03999999999999\n"
          ]
        }
      ]
    },
    {
      "cell_type": "code",
      "execution_count": 2,
      "metadata": {
        "colab": {
          "base_uri": "https://localhost:8080/"
        },
        "id": "LFw4n2tRW-De",
        "outputId": "aeedf9f9-23eb-4c1f-f760-2ee63a6b86da"
      },
      "outputs": [
        {
          "output_type": "stream",
          "name": "stdout",
          "text": [
            "Enter the radius of the circle: 6\n",
            "113.03999999999999\n"
          ]
        }
      ],
      "source": [
        "r = float(input(\"Enter the radius of the circle: \"))\n",
        "area = 3.14 * r * r\n",
        "print(area)\n"
      ]
    },
    {
      "cell_type": "markdown",
      "source": [
        "Solution #2"
      ],
      "metadata": {
        "id": "pBbqQxDabNwZ"
      }
    },
    {
      "cell_type": "code",
      "source": [
        "diameter = 12\n",
        "r = diameter / 2\n",
        "area = 3.14 * r * r\n",
        "print(area)"
      ],
      "metadata": {
        "colab": {
          "base_uri": "https://localhost:8080/"
        },
        "id": "uAlBhLbMXpcK",
        "outputId": "2e335aed-2cd3-4a9d-d1cc-c36f543124a1"
      },
      "execution_count": null,
      "outputs": [
        {
          "output_type": "stream",
          "name": "stdout",
          "text": [
            "113.03999999999999\n"
          ]
        }
      ]
    }
  ]
}