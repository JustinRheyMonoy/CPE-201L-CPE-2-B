{
  "nbformat": 4,
  "nbformat_minor": 0,
  "metadata": {
    "colab": {
      "provenance": []
    },
    "kernelspec": {
      "name": "python3",
      "display_name": "Python 3"
    },
    "language_info": {
      "name": "python"
    }
  },
  "cells": [
    {
      "cell_type": "code",
      "execution_count": null,
      "metadata": {
        "colab": {
          "base_uri": "https://localhost:8080/"
        },
        "id": "tkBoowIopWk1",
        "outputId": "5b4ef135-56c2-4644-f0a4-1cc1b9f56840"
      },
      "outputs": [
        {
          "output_type": "stream",
          "name": "stdout",
          "text": [
            "Array Items [9, 11, 5, 26, 98, 23, 6, 24, 77, 3]\n",
            "First Item =  9\n",
            "Last Item =  3\n",
            "Total Sum =  282\n"
          ]
        }
      ],
      "source": [
        "import array as arr\n",
        "numbers = arr.array('i', [9, 11, 5, 26, 98, 23, 6, 24, 77, 3])\n",
        "\n",
        "print(\"Array Items\", list(numbers))\n",
        "print(\"First Item = \" , numbers[0])\n",
        "print(\"Last Item = \", numbers[-1])\n",
        "\n",
        "total_sum = sum(numbers)\n",
        "print(\"Total Sum = \", total_sum)\n"
      ]
    },
    {
      "cell_type": "code",
      "source": [
        "import array as arr\n",
        "\n",
        "numbers = arr.array('i', [1, 2, 3, 4, 5, 6, 7, 8, 9, 10])\n",
        "numbers.append(23)\n",
        "print(\"Array Items\", list(numbers))"
      ],
      "metadata": {
        "colab": {
          "base_uri": "https://localhost:8080/"
        },
        "id": "IlW4hlcQ0P8l",
        "outputId": "3be45c2b-3db1-4a95-f409-2f36a3284e89"
      },
      "execution_count": null,
      "outputs": [
        {
          "output_type": "stream",
          "name": "stdout",
          "text": [
            "Array Items [1, 2, 3, 4, 5, 6, 7, 8, 9, 10, 23]\n"
          ]
        }
      ]
    },
    {
      "cell_type": "code",
      "source": [
        "import array as arr\n",
        "numbers = arr.array('i', [1, 2, 3, 4, 5, 6, 7, 8, 9, 10])\n",
        "numbers.insert(1,37)\n",
        "print(\"Array Items\", list(numbers))"
      ],
      "metadata": {
        "colab": {
          "base_uri": "https://localhost:8080/"
        },
        "id": "QR9l82Ig_VCk",
        "outputId": "d65bcefb-e9c4-469f-c1b8-184f11468ecf"
      },
      "execution_count": null,
      "outputs": [
        {
          "output_type": "stream",
          "name": "stdout",
          "text": [
            "Array Items [1, 37, 2, 3, 4, 5, 6, 7, 8, 9, 10]\n"
          ]
        }
      ]
    },
    {
      "cell_type": "code",
      "source": [
        "import array as arr\n",
        "\n",
        "numbers = arr.array('i', [5, 4, 3, 2, 1])\n",
        "numbers.reverse()\n",
        "print(\"Array Items\", list(numbers))"
      ],
      "metadata": {
        "colab": {
          "base_uri": "https://localhost:8080/"
        },
        "id": "9vyK81GPBoyM",
        "outputId": "cced48de-f4f8-4121-d40e-ade996306766"
      },
      "execution_count": null,
      "outputs": [
        {
          "output_type": "stream",
          "name": "stdout",
          "text": [
            "Array Items [1, 2, 3, 4, 5]\n"
          ]
        }
      ]
    },
    {
      "cell_type": "code",
      "source": [
        "import array as arr\n",
        "\n",
        "numbers = arr.array('i', [5, 4, 3, 2, 1])\n",
        "print(\"Array Items =\", list(numbers))\n",
        "print(\"Length of an array = \", len(numbers))\n"
      ],
      "metadata": {
        "colab": {
          "base_uri": "https://localhost:8080/"
        },
        "id": "JHiw5c4QIGUb",
        "outputId": "174d5587-aca6-4510-cfc5-9271518eb0a3"
      },
      "execution_count": null,
      "outputs": [
        {
          "output_type": "stream",
          "name": "stdout",
          "text": [
            "Array Items = [5, 4, 3, 2, 1]\n",
            "Length of an array =  5\n"
          ]
        }
      ]
    }
  ]
}