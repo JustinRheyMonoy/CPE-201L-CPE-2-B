{
  "nbformat": 4,
  "nbformat_minor": 0,
  "metadata": {
    "colab": {
      "provenance": [],
      "authorship_tag": "ABX9TyMDcuukLPGEyxNjrV8ah7t4",
      "include_colab_link": true
    },
    "kernelspec": {
      "name": "python3",
      "display_name": "Python 3"
    },
    "language_info": {
      "name": "python"
    }
  },
  "cells": [
    {
      "cell_type": "markdown",
      "metadata": {
        "id": "view-in-github",
        "colab_type": "text"
      },
      "source": [
        "<a href=\"https://colab.research.google.com/github/JustinRheyMonoy/CPE-201L-CPE-2-B/blob/main/DSA_Lab_Report_3.ipynb\" target=\"_parent\"><img src=\"https://colab.research.google.com/assets/colab-badge.svg\" alt=\"Open In Colab\"/></a>"
      ]
    },
    {
      "cell_type": "code",
      "execution_count": null,
      "metadata": {
        "colab": {
          "base_uri": "https://localhost:8080/"
        },
        "id": "VCYJXQLK7IPo",
        "outputId": "aeeaccb4-d8f7-4357-bd2d-b1b6ecaa42b0"
      },
      "outputs": [
        {
          "output_type": "stream",
          "name": "stdout",
          "text": [
            "186\n"
          ]
        }
      ],
      "source": [
        "sum_x = 0\n",
        "array = [26, 49, 98, 87, 62, 75]\n",
        "\n",
        "index = 0\n",
        "\n",
        "while index < len(array):\n",
        "    if array[index] % 2 == 0:\n",
        "      sum_x += array[index]\n",
        "    index += 1\n",
        "\n",
        "\n",
        "print(sum_x)"
      ]
    },
    {
      "cell_type": "code",
      "source": [],
      "metadata": {
        "id": "2_Ana0z17JXa"
      },
      "execution_count": null,
      "outputs": []
    }
  ]
}