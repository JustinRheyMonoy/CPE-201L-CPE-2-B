{
  "nbformat": 4,
  "nbformat_minor": 0,
  "metadata": {
    "colab": {
      "provenance": [],
      "authorship_tag": "ABX9TyO7gI5Q+WgPv0bxhy8/cMn9",
      "include_colab_link": true
    },
    "kernelspec": {
      "name": "python3",
      "display_name": "Python 3"
    },
    "language_info": {
      "name": "python"
    }
  },
  "cells": [
    {
      "cell_type": "markdown",
      "metadata": {
        "id": "view-in-github",
        "colab_type": "text"
      },
      "source": [
        "<a href=\"https://colab.research.google.com/github/JustinRheyMonoy/CPE-201L-CPE-2-B/blob/main/DSA_Lab_Report_3.ipynb\" target=\"_parent\"><img src=\"https://colab.research.google.com/assets/colab-badge.svg\" alt=\"Open In Colab\"/></a>"
      ]
    },
    {
      "cell_type": "code",
      "execution_count": null,
      "metadata": {
        "colab": {
          "base_uri": "https://localhost:8080/"
        },
        "id": "VCYJXQLK7IPo",
        "outputId": "aeeaccb4-d8f7-4357-bd2d-b1b6ecaa42b0"
      },
      "outputs": [
        {
          "output_type": "stream",
          "name": "stdout",
          "text": [
            "186\n"
          ]
        }
      ],
      "source": [
        "sum_even = 0\n",
        "scores = [26, 49, 98, 87, 62, 75]\n",
        "\n",
        "for score in scores:\n",
        "    if score % 2 == 0:\n",
        "        sum_even += score\n",
        "\n",
        "print(sum_even)"
      ]
    },
    {
      "cell_type": "code",
      "source": [],
      "metadata": {
        "id": "2_Ana0z17JXa"
      },
      "execution_count": null,
      "outputs": []
    }
  ]
}