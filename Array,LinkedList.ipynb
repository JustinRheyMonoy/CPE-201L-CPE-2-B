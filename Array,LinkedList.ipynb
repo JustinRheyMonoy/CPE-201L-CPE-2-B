{
  "nbformat": 4,
  "nbformat_minor": 0,
  "metadata": {
    "colab": {
      "provenance": [],
      "authorship_tag": "ABX9TyPQ1gbW3vELf9Rw4WfJaXLa",
      "include_colab_link": true
    },
    "kernelspec": {
      "name": "python3",
      "display_name": "Python 3"
    },
    "language_info": {
      "name": "python"
    }
  },
  "cells": [
    {
      "cell_type": "markdown",
      "metadata": {
        "id": "view-in-github",
        "colab_type": "text"
      },
      "source": [
        "<a href=\"https://colab.research.google.com/github/JustinRheyMonoy/CPE-201L-CPE-2-B/blob/main/Array%2CLinkedList.ipynb\" target=\"_parent\"><img src=\"https://colab.research.google.com/assets/colab-badge.svg\" alt=\"Open In Colab\"/></a>"
      ]
    },
    {
      "cell_type": "code",
      "execution_count": 10,
      "metadata": {
        "colab": {
          "base_uri": "https://localhost:8080/",
          "height": 35
        },
        "id": "kffBPMNWw6Q4",
        "outputId": "0f733b8d-91d8-4527-e120-e3899da5c3a4"
      },
      "outputs": [
        {
          "output_type": "execute_result",
          "data": {
            "text/plain": [
              "'f'"
            ],
            "application/vnd.google.colaboratory.intrinsic+json": {
              "type": "string"
            }
          },
          "metadata": {},
          "execution_count": 10
        }
      ],
      "source": [
        "import array as arr\n",
        "\n",
        "arr.typecodes #get all typecodes\n",
        "a = arr.array('i', [1,2,3,4,5,6])#Initializing array a\n",
        "b = arr.array('f', [1.5,2.5,3.5,4.5,5.5,6.5])#Initializing array b\n",
        "a.typecode #getting the typecode of array a\n",
        "b.typecode #getting the typecode of array b"
      ]
    },
    {
      "cell_type": "code",
      "source": [
        "import array as arr\n",
        "\n",
        "arr.typecodes\n",
        "a = arr.array('f', [1,2,3,4,5,6])\n",
        "b = arr.array('f', [1.2, 2.4, 3.6, 3.8, 4.10, 5.12])\n",
        "a.typecode\n",
        "b.typecode"
      ],
      "metadata": {
        "colab": {
          "base_uri": "https://localhost:8080/",
          "height": 35
        },
        "id": "CjTgrrBq0OoC",
        "outputId": "ecdd8fb2-cb4e-48fa-b2b1-eeb5ce2e9447"
      },
      "execution_count": 13,
      "outputs": [
        {
          "output_type": "execute_result",
          "data": {
            "text/plain": [
              "'f'"
            ],
            "application/vnd.google.colaboratory.intrinsic+json": {
              "type": "string"
            }
          },
          "metadata": {},
          "execution_count": 13
        }
      ]
    },
    {
      "cell_type": "code",
      "source": [
        "import array as arr\n",
        "\n",
        "arr.typecodes #get all typecodes\n",
        "a = arr.array('i', [1,2,3,4,5,6])#Initializing array a\n",
        "b = arr.array('f', [1.5,2.5,3.5,4.5,5.5,6.5])#Initializing array b\n",
        "c = arr.array('f', (float (x) for x in a))\n",
        "a.typecode #getting the typecode of array a\n",
        "b.typecode #getting the typecode of array b\n",
        "c.typecode #converting elements of a to float\n",
        "print(a)"
      ],
      "metadata": {
        "colab": {
          "base_uri": "https://localhost:8080/"
        },
        "id": "mvO2fHSK3_1m",
        "outputId": "d4bdedfe-6919-4380-9229-c13c0012e73b"
      },
      "execution_count": 21,
      "outputs": [
        {
          "output_type": "stream",
          "name": "stdout",
          "text": [
            "array('i', [1, 2, 3, 4, 5, 6])\n"
          ]
        }
      ]
    },
    {
      "cell_type": "code",
      "source": [
        "c = arr.array('i', (float(x) for x in a))\n",
        "c.typecode #converting elements of a to float"
      ],
      "metadata": {
        "id": "k8MU3E0l5yYP"
      },
      "execution_count": null,
      "outputs": []
    },
    {
      "cell_type": "code",
      "source": [
        "from array import array # importing array from array module\n",
        "a= array('i',[4,5,6,7]) # initializing array\n",
        "a.insert(1,2) # inserting element: 2 at index: 1\n",
        "  # Printing array a\n",
        "array('i', [4, 2, 5, 6, 7])\n",
        "a.insert(-2,0) # insert element: 0 at index: -1\n",
        "a\n",
        "a.insert(10, -1) # insert element: -1 at index: 10, this is out of range\n",
        "a\n",
        "a.insert(4, 11)\n",
        "print (a)"
      ],
      "metadata": {
        "colab": {
          "base_uri": "https://localhost:8080/"
        },
        "id": "Bl7On7Sl9As4",
        "outputId": "673839a0-5170-4f67-a2f4-10e53ef9c742"
      },
      "execution_count": 37,
      "outputs": [
        {
          "output_type": "stream",
          "name": "stdout",
          "text": [
            "array('i', [4, 2, 5, 0, 11, 6, 7, -1])\n"
          ]
        }
      ]
    },
    {
      "cell_type": "code",
      "source": [
        "# Node class\n",
        "class Node:\n",
        "\n",
        "    # Function to initialize the node object\n",
        "    def __init__(self, data):\n",
        "        self.data = data # Assign data\n",
        "        self.next = None # Initialize\n",
        "                        # next as null\n",
        "\n",
        "# Linked List class\n",
        "class LinkedList:\n",
        "\n",
        "    # Function to initialize the Linked\n",
        "    # List object\n",
        "    def __init__(self):\n",
        "        self.head = None\n",
        "    def print_data(self):\n",
        "      current = self.head\n",
        "      while current:\n",
        "        print(current.data)\n",
        "        current = current.next\n",
        "\n",
        "# Code execution starts here\n",
        "if __name__=='__main__':\n",
        "\n",
        "    # Start with the empty list\n",
        "    llist = LinkedList()\n",
        "\n",
        "    llist.head = Node(\"A\") #Object name 1\n",
        "    second = Node(\"B\") #Object name 2\n",
        "    third = Node(\"C\") #Object name 3\n",
        "    fourth = Node(\"D\") #Object name 4\n",
        "\n",
        "    llist.head.next = second # Link first node with second\n",
        "    second.next = third # Link second node with the third node\n",
        "    third.next = fourth # Link third node with the fourth node\n",
        "\n",
        "    llist.print_data()"
      ],
      "metadata": {
        "colab": {
          "base_uri": "https://localhost:8080/"
        },
        "id": "VnharM9I9T4u",
        "outputId": "28e02a86-0a18-4d63-f7f7-a2d60fa3bdac"
      },
      "execution_count": 53,
      "outputs": [
        {
          "output_type": "stream",
          "name": "stdout",
          "text": [
            "A\n",
            "B\n",
            "C\n",
            "D\n"
          ]
        }
      ]
    },
    {
      "cell_type": "code",
      "source": [],
      "metadata": {
        "id": "MgoswqtKD434"
      },
      "execution_count": null,
      "outputs": []
    }
  ]
}