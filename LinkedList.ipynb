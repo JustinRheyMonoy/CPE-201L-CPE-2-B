{
  "nbformat": 4,
  "nbformat_minor": 0,
  "metadata": {
    "colab": {
      "provenance": [],
      "authorship_tag": "ABX9TyPzZdcR2+rf3pbLd+sStXwC",
      "include_colab_link": true
    },
    "kernelspec": {
      "name": "python3",
      "display_name": "Python 3"
    },
    "language_info": {
      "name": "python"
    }
  },
  "cells": [
    {
      "cell_type": "markdown",
      "metadata": {
        "id": "view-in-github",
        "colab_type": "text"
      },
      "source": [
        "<a href=\"https://colab.research.google.com/github/JustinRheyMonoy/CPE-201L-CPE-2-B/blob/main/LinkedList.ipynb\" target=\"_parent\"><img src=\"https://colab.research.google.com/assets/colab-badge.svg\" alt=\"Open In Colab\"/></a>"
      ]
    },
    {
      "cell_type": "markdown",
      "source": [
        "#Linked List with pop stack function"
      ],
      "metadata": {
        "id": "pnxgzozFkNOp"
      }
    },
    {
      "cell_type": "code",
      "execution_count": 55,
      "metadata": {
        "id": "0izB7dZBcA21",
        "outputId": "0d6a4794-a774-4f48-dc87-6ca6b2633e0c",
        "colab": {
          "base_uri": "https://localhost:8080/"
        }
      },
      "outputs": [
        {
          "output_type": "stream",
          "name": "stdout",
          "text": [
            "Empty\n"
          ]
        }
      ],
      "source": [
        "# Node class\n",
        "class Node:\n",
        "\n",
        "    # Function to initialize the node object\n",
        "    def __init__(self, data):\n",
        "        self.data = data # Assign data\n",
        "        self.next = None # Initialize\n",
        "                        # next as null\n",
        "\n",
        "# Linked List class\n",
        "class LinkedList:\n",
        "\n",
        "    # Function to initialize the Linked\n",
        "    # List object\n",
        "    def __init__(self):\n",
        "        self.head = None\n",
        "    def print_data(self):\n",
        "      current = self.head\n",
        "      while current:\n",
        "        print(current.data)\n",
        "        current=current.next\n",
        "    def pop(self):\n",
        "      if self.head is None:\n",
        "        return\n",
        "      if self.head.next is None:\n",
        "        self.head = None\n",
        "        return\n",
        "      current=self.head\n",
        "      while current.next.next:\n",
        "        current=current.next\n",
        "      current.next=None\n",
        "    def check(self):\n",
        "      if self.head==None:\n",
        "        print(\"Empty\")\n",
        "        return\n",
        "\n",
        "if __name__=='__main__':\n",
        "# Start with the empty list\n",
        "    llist = LinkedList()\n",
        "\n",
        "    llist.head = Node(\"A\")\n",
        "    second = Node(\"B\")\n",
        "    third = Node(\"C\")\n",
        "    fourth = Node(\"D\")\n",
        "\n",
        "    llist.head.next = second # Link first node with second\n",
        "    second.next = third # Link second node with the third node\n",
        "    third.next = fourth #Link third to fourth\n",
        "    llist.pop()\n",
        "    llist.pop()\n",
        "    llist.pop()\n",
        "    llist.pop()\n",
        "\n",
        "\n",
        "    llist.check()\n",
        "    llist.print_data()"
      ]
    },
    {
      "cell_type": "markdown",
      "source": [
        "#Linked List with Insert stack function"
      ],
      "metadata": {
        "id": "btrXyPqwkSjv"
      }
    },
    {
      "cell_type": "code",
      "source": [
        "# Node class\n",
        "class Node:\n",
        "\n",
        "    # Function to initialize the node object\n",
        "    def __init__(self, data):\n",
        "        self.data = data # Assign data\n",
        "        self.next = None # Initialize\n",
        "                        # next as null\n",
        "\n",
        "# Linked List class\n",
        "class LinkedList:\n",
        "\n",
        "    # Function to initialize the Linked\n",
        "    # List object\n",
        "    def __init__(self):\n",
        "        self.head = None\n",
        "    def print_data(self):\n",
        "      current =self.head\n",
        "      while current:\n",
        "        print(current.data)\n",
        "        current=current.next\n",
        "\n",
        "    def insert(self, new_data):\n",
        "      new_node=Node(new_data)\n",
        "      new_node.next=fourth.next\n",
        "      fourth.next=new_node\n",
        "      return new_node\n",
        "\n",
        "if __name__=='__main__':\n",
        "# Start with the empty list\n",
        "    llist = LinkedList()\n",
        "\n",
        "    llist.head = Node(\"A\")\n",
        "    second = Node(\"B\")\n",
        "    third = Node(\"C\")\n",
        "    fourth = Node(\"D\")\n",
        "\n",
        "    llist.head.next = second # Link first node with second\n",
        "    second.next = third # Link second node with the third node\n",
        "    third.next = fourth #Link third to fourth\n",
        "    fourth.next =\n",
        "\n",
        "\n",
        "    llist.insert(\"E\")\n",
        "\n",
        "\n",
        "    llist.print_data()"
      ],
      "metadata": {
        "id": "YrtF62RVcGR7",
        "colab": {
          "base_uri": "https://localhost:8080/"
        },
        "outputId": "d5402687-4760-4620-a95a-e598d60c5acb"
      },
      "execution_count": null,
      "outputs": [
        {
          "output_type": "stream",
          "name": "stdout",
          "text": [
            "A\n",
            "B\n",
            "C\n",
            "D\n",
            "E\n"
          ]
        }
      ]
    }
  ]
}